{
  "nbformat": 4,
  "nbformat_minor": 0,
  "metadata": {
    "colab": {
      "name": "Untitled0.ipynb",
      "provenance": [],
      "authorship_tag": "ABX9TyPigvPK9tjmIW7AhIFjOoSp",
      "include_colab_link": true
    },
    "kernelspec": {
      "name": "python3",
      "display_name": "Python 3"
    },
    "language_info": {
      "name": "python"
    }
  },
  "cells": [
    {
      "cell_type": "markdown",
      "metadata": {
        "id": "view-in-github",
        "colab_type": "text"
      },
      "source": [
        "<a href=\"https://colab.research.google.com/github/AISWARYAR2001/Assignment-day2/blob/main/Untitled0.ipynb\" target=\"_parent\"><img src=\"https://colab.research.google.com/assets/colab-badge.svg\" alt=\"Open In Colab\"/></a>"
      ]
    },
    {
      "cell_type": "code",
      "metadata": {
        "id": "uO9lb6ywQO0y"
      },
      "source": [
        "import matplotlib.pyplot as plt\n",
        "import pandas as pd\n",
        "import numpy as np\n",
        "%matplotlib inline\n",
        "import seaborn as sns\n",
        "from numpy.random import randn,randint,sample,uniform"
      ],
      "execution_count": 1,
      "outputs": []
    },
    {
      "cell_type": "code",
      "metadata": {
        "colab": {
          "base_uri": "https://localhost:8080/",
          "height": 359
        },
        "id": "l-iiD9pNQdLX",
        "outputId": "514968e4-fe96-4cd7-aad3-335fa33a0905"
      },
      "source": [
        "df=pd.DataFrame(randn(10,4),columns=['a','b','c','d'])\n",
        "df"
      ],
      "execution_count": 2,
      "outputs": [
        {
          "output_type": "execute_result",
          "data": {
            "text/html": [
              "<div>\n",
              "<style scoped>\n",
              "    .dataframe tbody tr th:only-of-type {\n",
              "        vertical-align: middle;\n",
              "    }\n",
              "\n",
              "    .dataframe tbody tr th {\n",
              "        vertical-align: top;\n",
              "    }\n",
              "\n",
              "    .dataframe thead th {\n",
              "        text-align: right;\n",
              "    }\n",
              "</style>\n",
              "<table border=\"1\" class=\"dataframe\">\n",
              "  <thead>\n",
              "    <tr style=\"text-align: right;\">\n",
              "      <th></th>\n",
              "      <th>a</th>\n",
              "      <th>b</th>\n",
              "      <th>c</th>\n",
              "      <th>d</th>\n",
              "    </tr>\n",
              "  </thead>\n",
              "  <tbody>\n",
              "    <tr>\n",
              "      <th>0</th>\n",
              "      <td>-0.693011</td>\n",
              "      <td>-0.635658</td>\n",
              "      <td>1.592090</td>\n",
              "      <td>-0.862685</td>\n",
              "    </tr>\n",
              "    <tr>\n",
              "      <th>1</th>\n",
              "      <td>0.179120</td>\n",
              "      <td>-0.233991</td>\n",
              "      <td>-0.188529</td>\n",
              "      <td>-0.593941</td>\n",
              "    </tr>\n",
              "    <tr>\n",
              "      <th>2</th>\n",
              "      <td>-0.276992</td>\n",
              "      <td>0.210608</td>\n",
              "      <td>0.131388</td>\n",
              "      <td>-0.750462</td>\n",
              "    </tr>\n",
              "    <tr>\n",
              "      <th>3</th>\n",
              "      <td>-0.498048</td>\n",
              "      <td>0.398318</td>\n",
              "      <td>0.645198</td>\n",
              "      <td>1.745831</td>\n",
              "    </tr>\n",
              "    <tr>\n",
              "      <th>4</th>\n",
              "      <td>0.900438</td>\n",
              "      <td>0.215510</td>\n",
              "      <td>0.543452</td>\n",
              "      <td>0.105798</td>\n",
              "    </tr>\n",
              "    <tr>\n",
              "      <th>5</th>\n",
              "      <td>-0.406351</td>\n",
              "      <td>-0.354224</td>\n",
              "      <td>0.059727</td>\n",
              "      <td>-0.335661</td>\n",
              "    </tr>\n",
              "    <tr>\n",
              "      <th>6</th>\n",
              "      <td>-0.640131</td>\n",
              "      <td>2.304781</td>\n",
              "      <td>-0.754167</td>\n",
              "      <td>-1.917302</td>\n",
              "    </tr>\n",
              "    <tr>\n",
              "      <th>7</th>\n",
              "      <td>-0.277653</td>\n",
              "      <td>-0.071515</td>\n",
              "      <td>-1.535842</td>\n",
              "      <td>-0.801708</td>\n",
              "    </tr>\n",
              "    <tr>\n",
              "      <th>8</th>\n",
              "      <td>-0.730465</td>\n",
              "      <td>0.234239</td>\n",
              "      <td>-0.141537</td>\n",
              "      <td>1.032853</td>\n",
              "    </tr>\n",
              "    <tr>\n",
              "      <th>9</th>\n",
              "      <td>0.628265</td>\n",
              "      <td>0.098162</td>\n",
              "      <td>0.690474</td>\n",
              "      <td>0.698963</td>\n",
              "    </tr>\n",
              "  </tbody>\n",
              "</table>\n",
              "</div>"
            ],
            "text/plain": [
              "          a         b         c         d\n",
              "0 -0.693011 -0.635658  1.592090 -0.862685\n",
              "1  0.179120 -0.233991 -0.188529 -0.593941\n",
              "2 -0.276992  0.210608  0.131388 -0.750462\n",
              "3 -0.498048  0.398318  0.645198  1.745831\n",
              "4  0.900438  0.215510  0.543452  0.105798\n",
              "5 -0.406351 -0.354224  0.059727 -0.335661\n",
              "6 -0.640131  2.304781 -0.754167 -1.917302\n",
              "7 -0.277653 -0.071515 -1.535842 -0.801708\n",
              "8 -0.730465  0.234239 -0.141537  1.032853\n",
              "9  0.628265  0.098162  0.690474  0.698963"
            ]
          },
          "metadata": {
            "tags": []
          },
          "execution_count": 2
        }
      ]
    },
    {
      "cell_type": "code",
      "metadata": {
        "colab": {
          "base_uri": "https://localhost:8080/",
          "height": 278
        },
        "id": "4RNPrACWQ0MF",
        "outputId": "14601f9d-9fd5-4615-fa76-110582bbd89a"
      },
      "source": [
        "df.plot.bar()\n",
        "plt.title(\"Bar Graph\")\n",
        "plt.show()\n"
      ],
      "execution_count": 3,
      "outputs": [
        {
          "output_type": "display_data",
          "data": {
            "image/png": "[encoded data removed]",
            "text/plain": [
              "<Figure size 432x288 with 1 Axes>"
            ]
          },
          "metadata": {
            "tags": [],
            "needs_background": "light"
          }
        }
      ]
    }
  ]
}